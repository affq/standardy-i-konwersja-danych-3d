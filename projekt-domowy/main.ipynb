{
 "cells": [
  {
   "cell_type": "code",
   "execution_count": 7,
   "metadata": {},
   "outputs": [],
   "source": [
    "import geopandas as gpd\n",
    "import matplotlib.pyplot as plt\n",
    "from owslib.wfs import WebFeatureService\n",
    "from http.client import RemoteDisconnected\n",
    "from time import sleep\n",
    "import requests\n",
    "from owslib.wfs import WebFeatureService"
   ]
  },
  {
   "cell_type": "code",
   "execution_count": 8,
   "metadata": {},
   "outputs": [],
   "source": [
    "def download_and_save_file(download_url, save_path) -> None:\n",
    "    response = requests.get(download_url)\n",
    "\n",
    "    if response.status_code != 200:\n",
    "        raise Exception(f\"Failed to download {download_url}. Status code: {response.status_code}\")\n",
    "\n",
    "    with open(save_path, \"wb\") as file:\n",
    "        file.write(response.content)\n",
    "\n",
    "def wfs_connect_to_service(wfs_url: str, version: str = '1.0.0', number_of_retries: int = 10):\n",
    "    wfs_service = None\n",
    "    for _ in range(number_of_retries):\n",
    "        try:\n",
    "            wfs_service = WebFeatureService(url=wfs_url, version=version)\n",
    "        except (ConnectionError, RemoteDisconnected):\n",
    "            sleep(1)\n",
    "        else:\n",
    "            break\n",
    "\n",
    "    if wfs_service is None:\n",
    "        raise Exception(f\"Failed to communicate with WFS service {wfs_url}\")\n",
    "\n",
    "    return wfs_service"
   ]
  },
  {
   "cell_type": "code",
   "execution_count": 22,
   "metadata": {},
   "outputs": [],
   "source": [
    "hextiles = r\"C:\\Users\\adria\\Desktop\\standardy-i-konwersja-danych-3d\\projekt-domowy\\hextiles.fgb\"\n",
    "index = 3\n",
    "folder = r\"C:\\Users\\adria\\Desktop\\standardy-i-konwersja-danych-3d\\projekt-domowy\\output\""
   ]
  },
  {
   "cell_type": "markdown",
   "metadata": {},
   "source": [
    "# SKRYPT 1"
   ]
  },
  {
   "cell_type": "markdown",
   "metadata": {},
   "source": [
    "### odczytanie pliku, wybranie kafelka i znalezienie bboksa"
   ]
  },
  {
   "cell_type": "code",
   "execution_count": 23,
   "metadata": {},
   "outputs": [],
   "source": [
    "tiles = gpd.read_file(hextiles)\n",
    "tile = tiles.iloc[[index]]\n",
    "\n",
    "bbox = tile.total_bounds\n",
    "bbox = [bbox[0], bbox[1], bbox[2], bbox[3]]\n",
    "bbox = tuple(bbox)"
   ]
  },
  {
   "cell_type": "markdown",
   "metadata": {},
   "source": [
    "### pobranie nmt\n"
   ]
  },
  {
   "cell_type": "code",
   "execution_count": 24,
   "metadata": {},
   "outputs": [],
   "source": [
    "nmt_url = \"https://mapy.geoportal.gov.pl/wss/service/PZGIK/NumerycznyModelTerenuEVRF2007/WFS/Skorowidze\"\n",
    "nmt_wfs = wfs_connect_to_service(nmt_url, version='2.0.0')\n",
    "nmt_response = nmt_wfs.getfeature(\n",
    "    bbox=bbox,\n",
    "    typename=[\"gugik:SkorowidzNMT2023\"]\n",
    ")\n",
    "\n",
    "with open(f\"{folder}/nmt.xml\", \"wb\") as hextiles:\n",
    "    hextiles.write(nmt_response.read())\n",
    "\n",
    "nmt_sections = gpd.read_file(f\"{folder}/nmt.xml\")\n",
    "nmt_url_hex = nmt_sections[\"url_do_pobrania\"].iloc[0]\n",
    "download_and_save_file(nmt_url_hex, f\"{folder}/nmt.asc\")"
   ]
  },
  {
   "cell_type": "markdown",
   "metadata": {},
   "source": [
    "### pobranie nmpt"
   ]
  },
  {
   "cell_type": "code",
   "execution_count": 25,
   "metadata": {},
   "outputs": [],
   "source": [
    "# nmpt_url = \"https://mapy.geoportal.gov.pl/wss/service/PZGIK/NumerycznyModelPokryciaTerenuEVRF2007/WFS/Skorowidze\"\n",
    "# nmpt_wfs = wfs_connect_to_service(nmpt_url, version='2.0.0')\n",
    "# nmpt_response = nmpt_wfs.getfeature(\n",
    "#     bbox=bbox,\n",
    "#     typename=[\"gugik:SkorowidzNMPT2023\"]\n",
    "# )\n",
    "\n",
    "# with open(f\"{folder}/nmpt.xml\", \"wb\") as file:\n",
    "#     file.write(nmpt_response.read())\n",
    "\n",
    "# nmpt_sections = gpd.read_file(f\"{folder}/nmpt.xml\")\n",
    "# nmpt_url_hex = nmpt_sections[\"url_do_pobrania\"]\n",
    "# download_and_save_file(nmpt_url_hex, f\"{folder}/nmpt.asc\")"
   ]
  },
  {
   "cell_type": "markdown",
   "metadata": {},
   "source": [
    "### pobranie paczki bdot10k"
   ]
  },
  {
   "cell_type": "code",
   "execution_count": 26,
   "metadata": {},
   "outputs": [],
   "source": [
    "bdot_url = \"https://mapy.geoportal.gov.pl/wss/service/PZGIK/BDOT/WFS/PobieranieBDOT10k\"\n",
    "bdot_wfs = wfs_connect_to_service(bdot_url, version='2.0.0')\n",
    "bdot_response = bdot_wfs.getfeature(\n",
    "    bbox=bbox,\n",
    "    typename=[\"ms:BDOT10k_powiaty\"]\n",
    ")\n",
    "\n",
    "with open(f\"{folder}/bdot.xml\", \"wb\") as hextiles:\n",
    "    hextiles.write(bdot_response.read())\n",
    "\n",
    "bdot_sections = gpd.read_file(f\"{folder}/bdot.xml\")\n",
    "bdot_url_hex = bdot_sections[\"URL_GML\"].iloc[0]\n",
    "download_and_save_file(bdot_url_hex, f\"{folder}/bdot.zip\")"
   ]
  },
  {
   "cell_type": "markdown",
   "metadata": {},
   "source": [
    "# SKRYPT 2"
   ]
  },
  {
   "cell_type": "code",
   "execution_count": 39,
   "metadata": {},
   "outputs": [],
   "source": [
    "import rasterio\n",
    "from rasterio.mask import mask"
   ]
  },
  {
   "cell_type": "code",
   "execution_count": null,
   "metadata": {},
   "outputs": [],
   "source": [
    "nmt_raster = f\"{folder}\\\\nmt.asc\"\n",
    "# nmpt_raster = f\"{folder}\\nmpt.asc\"\n",
    "bubd_a_vector = f\"{folder}\\\\bubd_a.xml\"\n",
    "\n",
    "clipped = r\"C:\\Users\\adria\\Desktop\\standardy-i-konwersja-danych-3d\\projekt-domowy\\clipped\""
   ]
  },
  {
   "cell_type": "markdown",
   "metadata": {},
   "source": [
    "### clippowanie nmt"
   ]
  },
  {
   "cell_type": "code",
   "execution_count": 49,
   "metadata": {},
   "outputs": [],
   "source": [
    "with rasterio.open(f\"{nmt_raster}\", \"r\") as src:\n",
    "    out_image, out_transform = mask(src, tile.geometry, crop=True)\n",
    "    out_meta = src.meta\n",
    "\n",
    "out_meta.update({\"driver\": \"GTiff\",\n",
    "                    \"height\": out_image.shape[1],\n",
    "                    \"width\": out_image.shape[2],\n",
    "                    \"transform\": out_transform})\n",
    "\n",
    "output_file = \"nmt.tif\"\n",
    "\n",
    "with rasterio.open(f\"{clipped}\\\\{output_file}\", \"w\", **out_meta) as dest:\n",
    "    dest.write(out_image)\n"
   ]
  },
  {
   "cell_type": "markdown",
   "metadata": {},
   "source": [
    "### clippowanie nmpt"
   ]
  }
 ],
 "metadata": {
  "kernelspec": {
   "display_name": "base",
   "language": "python",
   "name": "python3"
  },
  "language_info": {
   "codemirror_mode": {
    "name": "ipython",
    "version": 3
   },
   "file_extension": ".py",
   "mimetype": "text/x-python",
   "name": "python",
   "nbconvert_exporter": "python",
   "pygments_lexer": "ipython3",
   "version": "3.9.13"
  }
 },
 "nbformat": 4,
 "nbformat_minor": 2
}
