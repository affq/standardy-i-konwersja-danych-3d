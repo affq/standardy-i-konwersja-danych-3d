{
 "cells": [
  {
   "cell_type": "code",
   "execution_count": 13,
   "metadata": {},
   "outputs": [],
   "source": [
    "import geopandas as gpd\n",
    "import matplotlib.pyplot as plt\n",
    "from owslib.wfs import WebFeatureService\n",
    "from http.client import RemoteDisconnected\n",
    "from time import sleep\n",
    "import requests"
   ]
  },
  {
   "cell_type": "code",
   "execution_count": 14,
   "metadata": {},
   "outputs": [],
   "source": [
    "def download_and_save_file(download_url, save_path) -> None:\n",
    "    response = requests.get(download_url)\n",
    "\n",
    "    if response.status_code != 200:\n",
    "        raise Exception(f\"Failed to download {download_url}. Status code: {response.status_code}\")\n",
    "\n",
    "    with open(save_path, \"wb\") as file:\n",
    "        file.write(response.content)\n",
    "\n",
    "def wfs_connect_to_service(wfs_url: str, version: str = '1.0.0', number_of_retries: int = 10):\n",
    "    wfs_service = None\n",
    "    for _ in range(number_of_retries):\n",
    "        try:\n",
    "            wfs_service = WebFeatureService(url=wfs_url, version=version)\n",
    "        except (ConnectionError, RemoteDisconnected):\n",
    "            sleep(1)\n",
    "        else:\n",
    "            break\n",
    "\n",
    "    if wfs_service is None:\n",
    "        raise Exception(f\"Failed to communicate with WFS service {wfs_url}\")\n",
    "\n",
    "    return wfs_service"
   ]
  },
  {
   "cell_type": "code",
   "execution_count": 15,
   "metadata": {},
   "outputs": [],
   "source": [
    "hextiles = r\"C:\\Users\\adria\\Desktop\\standardy-i-konwersja-danych-3d\\projekt-domowy\\hextiles.fgb\"\n",
    "index = 3\n",
    "folder = r\"C:\\Users\\adria\\Desktop\\standardy-i-konwersja-danych-3d\\projekt-domowy\\output\""
   ]
  },
  {
   "cell_type": "markdown",
   "metadata": {},
   "source": [
    "# SKRYPT 1"
   ]
  },
  {
   "cell_type": "markdown",
   "metadata": {},
   "source": [
    "### odczytanie pliku, wybranie kafelka i znalezienie bboksa"
   ]
  },
  {
   "cell_type": "code",
   "execution_count": 16,
   "metadata": {},
   "outputs": [],
   "source": [
    "tiles = gpd.read_file(hextiles)\n",
    "tile = tiles.iloc[[index]]\n",
    "\n",
    "bbox = tile.total_bounds\n",
    "bbox = [bbox[0], bbox[1], bbox[2], bbox[3]]\n",
    "bbox = tuple(bbox)"
   ]
  },
  {
   "cell_type": "markdown",
   "metadata": {},
   "source": [
    "### pobranie nmt\n"
   ]
  },
  {
   "cell_type": "code",
   "execution_count": 17,
   "metadata": {},
   "outputs": [],
   "source": [
    "nmt_url = \"https://mapy.geoportal.gov.pl/wss/service/PZGIK/NumerycznyModelTerenuEVRF2007/WFS/Skorowidze\"\n",
    "nmt_wfs = wfs_connect_to_service(nmt_url, version='2.0.0')\n",
    "nmt_response = nmt_wfs.getfeature(\n",
    "    bbox=bbox,\n",
    "    typename=[\"gugik:SkorowidzNMT2023\"]\n",
    ")\n",
    "\n",
    "with open(f\"{folder}/nmt.xml\", \"wb\") as hextiles:\n",
    "    hextiles.write(nmt_response.read())\n",
    "\n",
    "nmt_sections = gpd.read_file(f\"{folder}/nmt.xml\")\n",
    "nmt_url_hex = nmt_sections[\"url_do_pobrania\"].iloc[0]\n",
    "download_and_save_file(nmt_url_hex, f\"{folder}/nmt.asc\")"
   ]
  },
  {
   "cell_type": "markdown",
   "metadata": {},
   "source": [
    "### pobranie nmpt"
   ]
  },
  {
   "cell_type": "code",
   "execution_count": 18,
   "metadata": {},
   "outputs": [],
   "source": [
    "# nmpt_url = \"https://mapy.geoportal.gov.pl/wss/service/PZGIK/NumerycznyModelPokryciaTerenuEVRF2007/WFS/Skorowidze\"\n",
    "# nmpt_wfs = wfs_connect_to_service(nmpt_url, version='2.0.0')\n",
    "# nmpt_response = nmpt_wfs.getfeature(\n",
    "#     bbox=bbox,\n",
    "#     typename=[\"gugik:SkorowidzNMPT2023\"]\n",
    "# )\n",
    "\n",
    "# with open(f\"{folder}/nmpt.xml\", \"wb\") as file:\n",
    "#     file.write(nmpt_response.read())\n",
    "\n",
    "# nmpt_sections = gpd.read_file(f\"{folder}/nmpt.xml\")\n",
    "# nmpt_url_hex = nmpt_sections[\"url_do_pobrania\"]\n",
    "# download_and_save_file(nmpt_url_hex, f\"{folder}/nmpt.asc\")"
   ]
  },
  {
   "cell_type": "markdown",
   "metadata": {},
   "source": [
    "### pobranie paczki bdot10k"
   ]
  },
  {
   "cell_type": "code",
   "execution_count": 19,
   "metadata": {},
   "outputs": [],
   "source": [
    "bdot_url = \"https://mapy.geoportal.gov.pl/wss/service/PZGIK/BDOT/WFS/PobieranieBDOT10k\"\n",
    "bdot_wfs = wfs_connect_to_service(bdot_url, version='2.0.0')\n",
    "bdot_response = bdot_wfs.getfeature(\n",
    "    bbox=bbox,\n",
    "    typename=[\"ms:BDOT10k_powiaty\"]\n",
    ")\n",
    "\n",
    "with open(f\"{folder}/bdot.xml\", \"wb\") as hextiles:\n",
    "    hextiles.write(bdot_response.read())\n",
    "\n",
    "bdot_sections = gpd.read_file(f\"{folder}/bdot.xml\")\n",
    "bdot_url_hex = bdot_sections[\"URL_GML\"].iloc[0]\n",
    "download_and_save_file(bdot_url_hex, f\"{folder}/bdot.zip\")"
   ]
  },
  {
   "cell_type": "markdown",
   "metadata": {},
   "source": [
    "# SKRYPT 2"
   ]
  },
  {
   "cell_type": "code",
   "execution_count": 20,
   "metadata": {},
   "outputs": [],
   "source": [
    "import rasterio\n",
    "from rasterio.mask import mask\n",
    "import os"
   ]
  },
  {
   "cell_type": "code",
   "execution_count": null,
   "metadata": {},
   "outputs": [],
   "source": [
    "nmt_raster = f\"{folder}\\\\nmt.asc\"\n",
    "# nmpt_raster = f\"{folder}\\nmpt.asc\"\n",
    "bubd_a_vector = f\"{folder}\\\\bubd_a.xml\"\n",
    "\n",
    "clipped = r\"C:\\Users\\adria\\Desktop\\standardy-i-konwersja-danych-3d\\projekt-domowy\\clipped\"\n",
    "if not os.path.exists(clipped):\n",
    "    os.makedirs(clipped)"
   ]
  },
  {
   "cell_type": "markdown",
   "metadata": {},
   "source": [
    "### clippowanie nmt (raster)"
   ]
  },
  {
   "cell_type": "code",
   "execution_count": null,
   "metadata": {},
   "outputs": [],
   "source": [
    "with rasterio.open(f\"{nmt_raster}\", \"r\") as src:\n",
    "    out_image, out_transform = mask(src, tile.geometry, crop=True)\n",
    "    out_meta = src.meta\n",
    "\n",
    "out_meta.update({\"driver\": \"GTiff\",\n",
    "                    \"height\": out_image.shape[1],\n",
    "                    \"width\": out_image.shape[2],\n",
    "                    \"transform\": out_transform})\n",
    "\n",
    "output_file = f\"{clipped}\\\\nmt.tif\"\n",
    "\n",
    "with rasterio.open(output_file, \"w\", **out_meta) as dest:\n",
    "    dest.write(out_image)\n"
   ]
  },
  {
   "cell_type": "markdown",
   "metadata": {},
   "source": [
    "### clippowanie nmpt"
   ]
  },
  {
   "cell_type": "markdown",
   "metadata": {},
   "source": [
    "### clippowanie bdot (wektor)"
   ]
  },
  {
   "cell_type": "code",
   "execution_count": null,
   "metadata": {},
   "outputs": [
    {
     "name": "stderr",
     "output_type": "stream",
     "text": [
      "C:\\Users\\adria\\AppData\\Local\\Temp\\ipykernel_12284\\3380026551.py:4: UserWarning: Column names longer than 10 characters will be truncated when saved to ESRI Shapefile.\n",
      "  bubd_a_clipped.to_file(bubd_a_output, driver=\"ESRI Shapefile\")\n",
      "WARNING:fiona._env:Normalized/laundered field name: 'przestrzenNazw' to 'przestrzen'\n",
      "WARNING:fiona._env:Normalized/laundered field name: 'poczatekWersjiObiektu' to 'poczatekWe'\n",
      "WARNING:fiona._env:Normalized/laundered field name: 'oznaczenieZmiany' to 'oznaczenie'\n",
      "WARNING:fiona._env:Normalized/laundered field name: 'zrodloDanychGeometrycznych' to 'zrodloDany'\n",
      "WARNING:fiona._env:Normalized/laundered field name: 'kategoriaIstnienia' to 'kategoriaI'\n",
      "WARNING:fiona._env:Normalized/laundered field name: 'kodKarto10k' to 'kodKarto10'\n",
      "WARNING:fiona._env:Normalized/laundered field name: 'funkcjaOgolnaBudynku' to 'funkcjaOgo'\n",
      "WARNING:fiona._env:Normalized/laundered field name: 'funkcjaSzczegolowaBudynku' to 'funkcjaSzc'\n",
      "WARNING:fiona._env:Normalized/laundered field name: 'przewazajacaFunkcjaBudynku' to 'przewazaja'\n",
      "WARNING:fiona._env:Normalized/laundered field name: 'liczbaKondygnacji' to 'liczbaKond'\n",
      "WARNING:fiona._env:Normalized/laundered field name: 'identyfikatorEGiB' to 'identyfika'\n",
      "WARNING:fiona._env:Normalized/laundered field name: 'informacjaDodatkowa' to 'informacja'\n",
      "WARNING:fiona._env:Normalized/laundered field name: 'skrotKartograficzny' to 'skrotKarto'\n"
     ]
    },
    {
     "ename": "ValueError",
     "evalue": "Invalid field type <class 'list'>",
     "output_type": "error",
     "traceback": [
      "\u001b[1;31m---------------------------------------------------------------------------\u001b[0m",
      "\u001b[1;31mValueError\u001b[0m                                Traceback (most recent call last)",
      "Cell \u001b[1;32mIn[23], line 4\u001b[0m\n\u001b[0;32m      2\u001b[0m bubd_a_clipped \u001b[38;5;241m=\u001b[39m bubd_a\u001b[38;5;241m.\u001b[39mclip(tile\u001b[38;5;241m.\u001b[39mgeometry, keep_geom_type\u001b[38;5;241m=\u001b[39m\u001b[38;5;28;01mTrue\u001b[39;00m)\n\u001b[0;32m      3\u001b[0m bubd_a_output \u001b[38;5;241m=\u001b[39m \u001b[38;5;124mf\u001b[39m\u001b[38;5;124m\"\u001b[39m\u001b[38;5;132;01m{\u001b[39;00mclipped\u001b[38;5;132;01m}\u001b[39;00m\u001b[38;5;130;01m\\\\\u001b[39;00m\u001b[38;5;124mbubd_a_clipped.shp\u001b[39m\u001b[38;5;124m\"\u001b[39m\n\u001b[1;32m----> 4\u001b[0m \u001b[43mbubd_a_clipped\u001b[49m\u001b[38;5;241;43m.\u001b[39;49m\u001b[43mto_file\u001b[49m\u001b[43m(\u001b[49m\u001b[43mbubd_a_output\u001b[49m\u001b[43m,\u001b[49m\u001b[43m \u001b[49m\u001b[43mdriver\u001b[49m\u001b[38;5;241;43m=\u001b[39;49m\u001b[38;5;124;43m\"\u001b[39;49m\u001b[38;5;124;43mESRI Shapefile\u001b[39;49m\u001b[38;5;124;43m\"\u001b[39;49m\u001b[43m)\u001b[49m\n\u001b[0;32m      6\u001b[0m bubd_a\u001b[38;5;241m.\u001b[39mplot()\n\u001b[0;32m      7\u001b[0m bubd_a_clipped\u001b[38;5;241m.\u001b[39mplot()\n",
      "File \u001b[1;32mc:\\Users\\adria\\anaconda3\\lib\\site-packages\\geopandas\\geodataframe.py:1246\u001b[0m, in \u001b[0;36mGeoDataFrame.to_file\u001b[1;34m(self, filename, driver, schema, index, **kwargs)\u001b[0m\n\u001b[0;32m   1155\u001b[0m \u001b[38;5;250m\u001b[39m\u001b[38;5;124;03m\"\"\"Write the ``GeoDataFrame`` to a file.\u001b[39;00m\n\u001b[0;32m   1156\u001b[0m \n\u001b[0;32m   1157\u001b[0m \u001b[38;5;124;03mBy default, an ESRI shapefile is written, but any OGR data source\u001b[39;00m\n\u001b[1;32m   (...)\u001b[0m\n\u001b[0;32m   1242\u001b[0m \n\u001b[0;32m   1243\u001b[0m \u001b[38;5;124;03m\"\"\"\u001b[39;00m\n\u001b[0;32m   1244\u001b[0m \u001b[38;5;28;01mfrom\u001b[39;00m \u001b[38;5;21;01mgeopandas\u001b[39;00m\u001b[38;5;21;01m.\u001b[39;00m\u001b[38;5;21;01mio\u001b[39;00m\u001b[38;5;21;01m.\u001b[39;00m\u001b[38;5;21;01mfile\u001b[39;00m \u001b[38;5;28;01mimport\u001b[39;00m _to_file\n\u001b[1;32m-> 1246\u001b[0m _to_file(\u001b[38;5;28mself\u001b[39m, filename, driver, schema, index, \u001b[38;5;241m*\u001b[39m\u001b[38;5;241m*\u001b[39mkwargs)\n",
      "File \u001b[1;32mc:\\Users\\adria\\anaconda3\\lib\\site-packages\\geopandas\\io\\file.py:633\u001b[0m, in \u001b[0;36m_to_file\u001b[1;34m(df, filename, driver, schema, index, mode, crs, engine, **kwargs)\u001b[0m\n\u001b[0;32m    630\u001b[0m     \u001b[38;5;28;01mraise\u001b[39;00m \u001b[38;5;167;01mValueError\u001b[39;00m(\u001b[38;5;124mf\u001b[39m\u001b[38;5;124m\"\u001b[39m\u001b[38;5;124m'\u001b[39m\u001b[38;5;124mmode\u001b[39m\u001b[38;5;124m'\u001b[39m\u001b[38;5;124m should be one of \u001b[39m\u001b[38;5;124m'\u001b[39m\u001b[38;5;124mw\u001b[39m\u001b[38;5;124m'\u001b[39m\u001b[38;5;124m or \u001b[39m\u001b[38;5;124m'\u001b[39m\u001b[38;5;124ma\u001b[39m\u001b[38;5;124m'\u001b[39m\u001b[38;5;124m, got \u001b[39m\u001b[38;5;124m'\u001b[39m\u001b[38;5;132;01m{\u001b[39;00mmode\u001b[38;5;132;01m}\u001b[39;00m\u001b[38;5;124m'\u001b[39m\u001b[38;5;124m instead\u001b[39m\u001b[38;5;124m\"\u001b[39m)\n\u001b[0;32m    632\u001b[0m \u001b[38;5;28;01mif\u001b[39;00m engine \u001b[38;5;241m==\u001b[39m \u001b[38;5;124m\"\u001b[39m\u001b[38;5;124mfiona\u001b[39m\u001b[38;5;124m\"\u001b[39m:\n\u001b[1;32m--> 633\u001b[0m     _to_file_fiona(df, filename, driver, schema, crs, mode, \u001b[38;5;241m*\u001b[39m\u001b[38;5;241m*\u001b[39mkwargs)\n\u001b[0;32m    634\u001b[0m \u001b[38;5;28;01melif\u001b[39;00m engine \u001b[38;5;241m==\u001b[39m \u001b[38;5;124m\"\u001b[39m\u001b[38;5;124mpyogrio\u001b[39m\u001b[38;5;124m\"\u001b[39m:\n\u001b[0;32m    635\u001b[0m     _to_file_pyogrio(df, filename, driver, schema, crs, mode, \u001b[38;5;241m*\u001b[39m\u001b[38;5;241m*\u001b[39mkwargs)\n",
      "File \u001b[1;32mc:\\Users\\adria\\anaconda3\\lib\\site-packages\\geopandas\\io\\file.py:664\u001b[0m, in \u001b[0;36m_to_file_fiona\u001b[1;34m(df, filename, driver, schema, crs, mode, **kwargs)\u001b[0m\n\u001b[0;32m    660\u001b[0m     crs_wkt \u001b[38;5;241m=\u001b[39m crs\u001b[38;5;241m.\u001b[39mto_wkt(\u001b[38;5;124m\"\u001b[39m\u001b[38;5;124mWKT1_GDAL\u001b[39m\u001b[38;5;124m\"\u001b[39m)\n\u001b[0;32m    661\u001b[0m \u001b[38;5;28;01mwith\u001b[39;00m fiona\u001b[38;5;241m.\u001b[39mopen(\n\u001b[0;32m    662\u001b[0m     filename, mode\u001b[38;5;241m=\u001b[39mmode, driver\u001b[38;5;241m=\u001b[39mdriver, crs_wkt\u001b[38;5;241m=\u001b[39mcrs_wkt, schema\u001b[38;5;241m=\u001b[39mschema, \u001b[38;5;241m*\u001b[39m\u001b[38;5;241m*\u001b[39mkwargs\n\u001b[0;32m    663\u001b[0m ) \u001b[38;5;28;01mas\u001b[39;00m colxn:\n\u001b[1;32m--> 664\u001b[0m     \u001b[43mcolxn\u001b[49m\u001b[38;5;241;43m.\u001b[39;49m\u001b[43mwriterecords\u001b[49m\u001b[43m(\u001b[49m\u001b[43mdf\u001b[49m\u001b[38;5;241;43m.\u001b[39;49m\u001b[43miterfeatures\u001b[49m\u001b[43m(\u001b[49m\u001b[43m)\u001b[49m\u001b[43m)\u001b[49m\n",
      "File \u001b[1;32mc:\\Users\\adria\\anaconda3\\lib\\site-packages\\fiona\\collection.py:558\u001b[0m, in \u001b[0;36mCollection.writerecords\u001b[1;34m(self, records)\u001b[0m\n\u001b[0;32m    556\u001b[0m \u001b[38;5;28;01mif\u001b[39;00m \u001b[38;5;28mself\u001b[39m\u001b[38;5;241m.\u001b[39mmode \u001b[38;5;129;01mnot\u001b[39;00m \u001b[38;5;129;01min\u001b[39;00m (\u001b[38;5;124m\"\u001b[39m\u001b[38;5;124ma\u001b[39m\u001b[38;5;124m\"\u001b[39m, \u001b[38;5;124m\"\u001b[39m\u001b[38;5;124mw\u001b[39m\u001b[38;5;124m\"\u001b[39m):\n\u001b[0;32m    557\u001b[0m     \u001b[38;5;28;01mraise\u001b[39;00m \u001b[38;5;167;01mOSError\u001b[39;00m(\u001b[38;5;124m\"\u001b[39m\u001b[38;5;124mcollection not open for writing\u001b[39m\u001b[38;5;124m\"\u001b[39m)\n\u001b[1;32m--> 558\u001b[0m \u001b[38;5;28;43mself\u001b[39;49m\u001b[38;5;241;43m.\u001b[39;49m\u001b[43msession\u001b[49m\u001b[38;5;241;43m.\u001b[39;49m\u001b[43mwriterecs\u001b[49m\u001b[43m(\u001b[49m\u001b[43mrecords\u001b[49m\u001b[43m,\u001b[49m\u001b[43m \u001b[49m\u001b[38;5;28;43mself\u001b[39;49m\u001b[43m)\u001b[49m\n\u001b[0;32m    559\u001b[0m \u001b[38;5;28mself\u001b[39m\u001b[38;5;241m.\u001b[39m_len \u001b[38;5;241m=\u001b[39m \u001b[38;5;28mself\u001b[39m\u001b[38;5;241m.\u001b[39msession\u001b[38;5;241m.\u001b[39mget_length()\n\u001b[0;32m    560\u001b[0m \u001b[38;5;28mself\u001b[39m\u001b[38;5;241m.\u001b[39m_bounds \u001b[38;5;241m=\u001b[39m \u001b[38;5;28;01mNone\u001b[39;00m\n",
      "File \u001b[1;32mfiona\\\\ogrext.pyx:1409\u001b[0m, in \u001b[0;36mfiona.ogrext.WritingSession.writerecs\u001b[1;34m()\u001b[0m\n",
      "File \u001b[1;32mfiona\\\\ogrext.pyx:514\u001b[0m, in \u001b[0;36mfiona.ogrext.OGRFeatureBuilder.build\u001b[1;34m()\u001b[0m\n",
      "\u001b[1;31mValueError\u001b[0m: Invalid field type <class 'list'>"
     ]
    }
   ],
   "source": [
    "bubd_a = gpd.read_file(bubd_a_vector)\n",
    "bubd_a_clipped = bubd_a.clip(tile.geometry, keep_geom_type=True)\n",
    "bubd_a_output = f\"{clipped}\\\\bubd_a_clipped.shp\"\n",
    "bubd_a_clipped.to_file(bubd_a_output, driver=\"ESRI Shapefile\")\n",
    "\n",
    "bubd_a.plot()\n",
    "bubd_a_clipped.plot()\n",
    "plt.show()"
   ]
  },
  {
   "cell_type": "markdown",
   "metadata": {},
   "source": [
    "# SKRYPT 3"
   ]
  },
  {
   "cell_type": "code",
   "execution_count": null,
   "metadata": {},
   "outputs": [],
   "source": [
    "import open3d\n"
   ]
  }
 ],
 "metadata": {
  "kernelspec": {
   "display_name": "base",
   "language": "python",
   "name": "python3"
  },
  "language_info": {
   "codemirror_mode": {
    "name": "ipython",
    "version": 3
   },
   "file_extension": ".py",
   "mimetype": "text/x-python",
   "name": "python",
   "nbconvert_exporter": "python",
   "pygments_lexer": "ipython3",
   "version": "3.11.8"
  }
 },
 "nbformat": 4,
 "nbformat_minor": 2
}
